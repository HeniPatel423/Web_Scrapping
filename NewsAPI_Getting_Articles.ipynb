{
 "cells": [
  {
   "cell_type": "markdown",
   "metadata": {
    "id": "pTCs6BCZK0mh"
   },
   "source": [
    "# NewsAPI  - Getting articles\n",
    "This API can get news articles from different sources and different topics.  \n"
   ]
  },
  {
   "cell_type": "code",
   "execution_count": 1,
   "metadata": {
    "id": "27_jVV9Fwpl5"
   },
   "outputs": [],
   "source": [
    "key = \"a9c085019beb46bd86d95c9c46487c62\""
   ]
  },
  {
   "cell_type": "code",
   "execution_count": 2,
   "metadata": {
    "colab": {
     "base_uri": "https://localhost:8080/"
    },
    "id": "hN0x3H1WHxtE",
    "outputId": "b127bce5-f0a6-43bc-b76c-49d019ee890b"
   },
   "outputs": [
    {
     "name": "stdout",
     "output_type": "stream",
     "text": [
      "                                               Content  \\\n",
      "0    When Emma Vaughan left for work after turning ...   \n",
      "1    An AI tool tested by an NHS hospital trust suc...   \n",
      "2    Join Fox News for access to this content\\r\\nPl...   \n",
      "3    Join Fox News for access to this content\\r\\nPl...   \n",
      "4    Join Fox News for access to this content\\r\\nPl...   \n",
      "..                                                 ...   \n",
      "239                                          [Removed]   \n",
      "240                                          [Removed]   \n",
      "241                                          [Removed]   \n",
      "242                                          [Removed]   \n",
      "243                                          [Removed]   \n",
      "\n",
      "                                           Description          Published At  \\\n",
      "0    It is the third local house fire in two weeks ...  2024-03-09T12:38:26Z   \n",
      "1    An AI tool called Mia found missed breast canc...  2024-03-21T01:16:08Z   \n",
      "2    Apple's Journal app may make some of your pers...  2024-03-06T11:00:15Z   \n",
      "3    A stealthy technology known as EM Eye allows e...  2024-03-21T14:00:21Z   \n",
      "4    Tech guru Kurt \"CyberGuy\" Knutsson reveals the...  2024-03-20T14:00:15Z   \n",
      "..                                                 ...                   ...   \n",
      "239                                          [Removed]  1970-01-01T00:00:00Z   \n",
      "240                                          [Removed]  1970-01-01T00:00:00Z   \n",
      "241                                          [Removed]  1970-01-01T00:00:00Z   \n",
      "242                                          [Removed]  1970-01-01T00:00:00Z   \n",
      "243                                          [Removed]  1970-01-01T00:00:00Z   \n",
      "\n",
      "                                                 Title Source ID Source Name  \n",
      "0     Bride-to-be 'devastated' after tumble dryer fire  bbc-news    BBC News  \n",
      "1     NHS AI test spots tiny cancers missed by doctors  bbc-news    BBC News  \n",
      "2      The iPhone privacy setting you need to turn off  fox-news    Fox News  \n",
      "3    Creepy tool lets criminal hackers access your ...  fox-news    Fox News  \n",
      "4    The 4 best secret note-taking apps that can ch...  fox-news    Fox News  \n",
      "..                                                 ...       ...         ...  \n",
      "239                                          [Removed]      None   [Removed]  \n",
      "240                                          [Removed]      None   [Removed]  \n",
      "241                                          [Removed]      None   [Removed]  \n",
      "242                                          [Removed]      None   [Removed]  \n",
      "243                                          [Removed]      None   [Removed]  \n",
      "\n",
      "[244 rows x 6 columns]\n"
     ]
    }
   ],
   "source": [
    "from newsapi import NewsApiClient\n",
    "import pandas as pd\n",
    "\n",
    "# Initialize API endpoint\n",
    "newsapi = NewsApiClient(api_key=key)\n",
    "\n",
    "# Define the list of media sources\n",
    "sources = 'bbc-news,cnn,fox-news,nbc-news,the-guardian-uk,the-new-york-times,the-washington-post,usa-today,independent,daily-mail'\n",
    "\n",
    "# Search Query\n",
    "query = [\"Machine Learning\", \"AI\", \"technology\"]\n",
    "\n",
    "# Initialize empty lists to store data\n",
    "authors = []\n",
    "contents = []\n",
    "descriptions = []\n",
    "published_ats = []\n",
    "titles = []\n",
    "urls = []\n",
    "source_ids = []\n",
    "source_names = []\n",
    "\n",
    "# Iterate over each query keyword\n",
    "for keyword in query:\n",
    "    # /v2/everything - note there are other parameters you can set\n",
    "    all_articles = newsapi.get_everything(q=keyword,\n",
    "                                          sources=sources,\n",
    "                                          language='en')\n",
    "    # Extract data and append to lists\n",
    "    for article in all_articles['articles']:\n",
    "        contents.append(article['content'])\n",
    "        descriptions.append(article['description'])\n",
    "        published_ats.append(article['publishedAt'])\n",
    "        titles.append(article['title'])\n",
    "        source_ids.append(article['source']['id'])\n",
    "        source_names.append(article['source']['name'])\n",
    "\n",
    "# Create DataFrame from the lists\n",
    "data = {\n",
    "    'Content': contents,\n",
    "    'Description': descriptions,\n",
    "    'Published At': published_ats,\n",
    "    'Title': titles,\n",
    "    'Source ID': source_ids,\n",
    "    'Source Name': source_names\n",
    "}\n",
    "\n",
    "df = pd.DataFrame(data)\n",
    "\n",
    "# Save DataFrame to CSV file\n",
    "df.to_csv('news_articles.csv', index=False)\n",
    "\n",
    "# Print the DataFrame\n",
    "print(df)\n"
   ]
  }
 ],
 "metadata": {
  "colab": {
   "provenance": []
  },
  "kernelspec": {
   "display_name": "Python 3 (ipykernel)",
   "language": "python",
   "name": "python3"
  },
  "language_info": {
   "codemirror_mode": {
    "name": "ipython",
    "version": 3
   },
   "file_extension": ".py",
   "mimetype": "text/x-python",
   "name": "python",
   "nbconvert_exporter": "python",
   "pygments_lexer": "ipython3",
   "version": "3.9.13"
  }
 },
 "nbformat": 4,
 "nbformat_minor": 1
}
